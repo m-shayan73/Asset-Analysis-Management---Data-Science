{
 "cells": [
  {
   "cell_type": "code",
   "execution_count": 10,
   "metadata": {},
   "outputs": [
    {
     "name": "stdout",
     "output_type": "stream",
     "text": [
      "dict_keys(['date', 'timestamp', 'metal', 'exchange', 'currency', 'price', 'prev_close_price', 'ch', 'chp', 'price_gram_24k', 'price_gram_22k', 'price_gram_21k', 'price_gram_20k', 'price_gram_18k', 'price_gram_16k', 'price_gram_14k', 'price_gram_10k'])\n",
      "{'date': '2023-01-01T10:30:00.000Z', 'timestamp': 1672569000000, 'metal': 'XAU', 'exchange': 'LBMA', 'currency': 'USD', 'price': 1805.4, 'prev_close_price': 1805.4, 'ch': 0, 'chp': 0, 'price_gram_24k': 58.045, 'price_gram_22k': 53.2079, 'price_gram_21k': 50.7893, 'price_gram_20k': 48.3708, 'price_gram_18k': 43.5337, 'price_gram_16k': 38.6966, 'price_gram_14k': 33.8596, 'price_gram_10k': 24.1854}\n",
      "dict_keys(['date', 'timestamp', 'metal', 'exchange', 'currency', 'price', 'prev_close_price', 'ch', 'chp', 'price_gram_24k', 'price_gram_22k', 'price_gram_21k', 'price_gram_20k', 'price_gram_18k', 'price_gram_16k', 'price_gram_14k', 'price_gram_10k'])\n",
      "{'date': '2023-01-02T10:30:00.000Z', 'timestamp': 1672655400000, 'metal': 'XAU', 'exchange': 'LBMA', 'currency': 'USD', 'price': 1805.4, 'prev_close_price': 1805.4, 'ch': 0, 'chp': 0, 'price_gram_24k': 58.045, 'price_gram_22k': 53.2079, 'price_gram_21k': 50.7893, 'price_gram_20k': 48.3708, 'price_gram_18k': 43.5337, 'price_gram_16k': 38.6966, 'price_gram_14k': 33.8596, 'price_gram_10k': 24.1854}\n"
     ]
    }
   ],
   "source": [
    "import requests\n",
    "from datetime import datetime, timedelta\n",
    "import csv\n",
    "\n",
    "data_final=[]\n",
    "start_date = datetime(2023, 1, 1)\n",
    "end_date = datetime(2023, 1, 2)\n",
    "current_date = start_date\n",
    "date_range = []\n",
    "while current_date <= end_date:\n",
    "    date_range.append(current_date)\n",
    "    current_date += timedelta(days=1)\n",
    "\n",
    "for i in range(len(date_range)):\n",
    "    url = f'https://www.goldapi.io/api/XAU/USD/{date_range[i]}'\n",
    "    headers = {'x-access-token': 'goldapi-10oy9qrlo0ei94a-io'}\n",
    "    response = requests.get(url, headers=headers)\n",
    "    data = response.json()\n",
    "    data_final.append(data)\n",
    "    print(data.keys())\n",
    "    print(data)\n",
    "\n",
    "field_names = ['date', 'price']\n",
    "with open('goldcsv', 'w', newline='') as csvfile:\n",
    "    writer = csv.DictWriter(csvfile, fieldnames=field_names)\n",
    "    writer.writeheader()\n",
    "    for row in data_final:\n",
    "        writer.writerow(row)"
   ]
  },
  {
   "cell_type": "code",
   "execution_count": null,
   "metadata": {},
   "outputs": [],
   "source": []
  }
 ],
 "metadata": {
  "kernelspec": {
   "display_name": "Python 3",
   "language": "python",
   "name": "python3"
  },
  "language_info": {
   "codemirror_mode": {
    "name": "ipython",
    "version": 3
   },
   "file_extension": ".py",
   "mimetype": "text/x-python",
   "name": "python",
   "nbconvert_exporter": "python",
   "pygments_lexer": "ipython3",
   "version": "3.12.0"
  }
 },
 "nbformat": 4,
 "nbformat_minor": 2
}
